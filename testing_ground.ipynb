{
 "cells": [
  {
   "cell_type": "markdown",
   "metadata": {},
   "source": [
    "# Start furhat"
   ]
  },
  {
   "cell_type": "code",
   "execution_count": 1,
   "metadata": {},
   "outputs": [
    {
     "name": "stdout",
     "output_type": "stream",
     "text": [
      "\n",
      "Users: [{'id': 'virtual-user-4',\n",
      " 'location': {'x': -0.007499999832361937, 'y': 0.0, 'z': 0.8399999737739563},\n",
      " 'rotation': {'x': 0.0, 'y': 180.5115509033203, 'z': 0.0}}]\n"
     ]
    }
   ],
   "source": [
    "from furhat_remote_api import FurhatRemoteAPI\n",
    "from time import sleep\n",
    "import random\n",
    "import json\n",
    "\n",
    "# Instantiate FurhatRemoteApi\n",
    "furhat = FurhatRemoteAPI('localhost')\n",
    "\n",
    "# get voices\n",
    "voices = furhat.get_voices()\n",
    "\n",
    "# set robot voice\n",
    "furhat.set_voice(name='Matthew')\n",
    "\n",
    "# get users (how does this work?)\n",
    "users = furhat.get_users()\n",
    "print(f'\\nUsers: {users}')\n",
    "furhat.attend(user = 'CLOSEST')\n",
    "\n",
    "furhat.set_led(red=0, green=0, blue=200) \n",
    "furhat.say(text = 'Hello, I am Furhat, your virtual robot. How are you today?', blocking=True)\n",
    "\n",
    "furhat.set_led(red=0, green=200, blue=0) \n",
    "response = furhat.listen()\n",
    "furhat.set_led(red=200, green=0, blue=0)\n",
    "\n",
    "if response.message == []:\n",
    "    furhat.say(text = 'Sorry, I did not hear you.', blocking=True)\n",
    "else:\n",
    "    furhat.gesture(name='Nod')\n",
    "    furhat.say(text = 'I am glad to hear that.', blocking=True)"
   ]
  },
  {
   "cell_type": "markdown",
   "metadata": {},
   "source": [
    "# Import dialogue"
   ]
  },
  {
   "cell_type": "code",
   "execution_count": 2,
   "metadata": {},
   "outputs": [
    {
     "name": "stdout",
     "output_type": "stream",
     "text": [
      "Wine Facts:\n",
      "1: The world's oldest bottle of wine dates back to A.D. 325 and was found near the town of Speyer, Germany, in 1867.\n"
     ]
    }
   ],
   "source": [
    "import json\n",
    "\n",
    "with open(\"facts.json\", 'r') as file:\n",
    "    facts = json.load(file)\n",
    "\n",
    "wine_facts = facts.get('wine_facts', {})\n",
    "print(\"Wine Facts:\")\n",
    "print(f'1: {wine_facts.get(\"1\")}')\n"
   ]
  },
  {
   "cell_type": "markdown",
   "metadata": {},
   "source": [
    "# Testing dialogue"
   ]
  },
  {
   "cell_type": "code",
   "execution_count": 14,
   "metadata": {},
   "outputs": [
    {
     "data": {
      "text/plain": [
       "{'message': 'Speaking from url done', 'success': True}"
      ]
     },
     "execution_count": 14,
     "metadata": {},
     "output_type": "execute_result"
    }
   ],
   "source": [
    "furhat.say(text = wine_facts.get('1'), blocking=True)"
   ]
  }
 ],
 "metadata": {
  "kernelspec": {
   "display_name": "Python 3",
   "language": "python",
   "name": "python3"
  },
  "language_info": {
   "codemirror_mode": {
    "name": "ipython",
    "version": 3
   },
   "file_extension": ".py",
   "mimetype": "text/x-python",
   "name": "python",
   "nbconvert_exporter": "python",
   "pygments_lexer": "ipython3",
   "version": "3.11.5"
  }
 },
 "nbformat": 4,
 "nbformat_minor": 2
}
